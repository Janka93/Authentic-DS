{
 "cells": [
  {
   "cell_type": "markdown",
   "metadata": {},
   "source": [
    "Plotting with Matplotlib\n",
    "intro\n",
    "\n",
    "Figure object and Axes\n",
    "\n",
    "Axis (axis scales)\n",
    "\n",
    "Labels\n",
    "\n",
    "Limits\n",
    "\n",
    "Markers\n",
    "\n",
    "Style sheets (title size, label size, marker size)\n",
    "\n",
    "rc Params setting\n",
    "\n",
    "\n",
    "plots + parameters:\n",
    "plt.plot, plt.hist, plt.scatter, plt.bar, \n"
   ]
  },
  {
   "cell_type": "code",
   "execution_count": null,
   "metadata": {},
   "outputs": [],
   "source": []
  }
 ],
 "metadata": {
  "kernelspec": {
   "display_name": "Python 3",
   "language": "python",
   "name": "python3"
  },
  "language_info": {
   "codemirror_mode": {
    "name": "ipython",
    "version": 3
   },
   "file_extension": ".py",
   "mimetype": "text/x-python",
   "name": "python",
   "nbconvert_exporter": "python",
   "pygments_lexer": "ipython3",
   "version": "3.7.7"
  }
 },
 "nbformat": 4,
 "nbformat_minor": 4
}
