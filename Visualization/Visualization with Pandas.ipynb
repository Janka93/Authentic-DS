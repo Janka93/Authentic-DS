{
 "cells": [
  {
   "cell_type": "markdown",
   "metadata": {},
   "source": [
    "# 3_4_5 Visualizations with Pandas"
   ]
  },
  {
   "cell_type": "markdown",
   "metadata": {},
   "source": [
    "Introduction to basic Pandas visualization capabilities\n",
    "\n",
    "Pandas library will probably be your first option to create visual insights to understand the data more. The main advantage is that you can visualize the data using simple and straightforward methods. Behind the scene, when we call Pandas' plotting methods, there is a Matplotlib library, which is used as an engine. But don't worry about this library as we will cover it in the latter lesson."
   ]
  },
  {
   "cell_type": "markdown",
   "metadata": {},
   "source": [
    "The occupancy detection dataset:\n",
    "https://archive.ics.uci.edu/ml/datasets/Occupancy+Detection+#. \n",
    "\n",
    "\n",
    "This dataset is intended to solve binary classification problems according to attributes, which could indicate whether a person is present in the room. \n",
    "\n",
    "Let´s import Pandas library and read the data."
   ]
  },
  {
   "cell_type": "code",
   "execution_count": 1,
   "metadata": {},
   "outputs": [],
   "source": [
    "# Import Pandas library\n",
    "import pandas as pd"
   ]
  },
  {
   "cell_type": "code",
   "execution_count": 2,
   "metadata": {},
   "outputs": [],
   "source": [
    "# Read the data\n",
    "data = pd.read_csv('room_occupancy.txt')"
   ]
  },
  {
   "cell_type": "code",
   "execution_count": 3,
   "metadata": {},
   "outputs": [
    {
     "data": {
      "text/html": [
       "<div>\n",
       "<style scoped>\n",
       "    .dataframe tbody tr th:only-of-type {\n",
       "        vertical-align: middle;\n",
       "    }\n",
       "\n",
       "    .dataframe tbody tr th {\n",
       "        vertical-align: top;\n",
       "    }\n",
       "\n",
       "    .dataframe thead th {\n",
       "        text-align: right;\n",
       "    }\n",
       "</style>\n",
       "<table border=\"1\" class=\"dataframe\">\n",
       "  <thead>\n",
       "    <tr style=\"text-align: right;\">\n",
       "      <th></th>\n",
       "      <th>date</th>\n",
       "      <th>Temperature</th>\n",
       "      <th>Humidity</th>\n",
       "      <th>Light</th>\n",
       "      <th>CO2</th>\n",
       "      <th>HumidityRatio</th>\n",
       "      <th>Occupancy</th>\n",
       "    </tr>\n",
       "  </thead>\n",
       "  <tbody>\n",
       "    <tr>\n",
       "      <th>1</th>\n",
       "      <td>2015-02-11 14:48:00</td>\n",
       "      <td>21.7600</td>\n",
       "      <td>31.133333</td>\n",
       "      <td>437.333333</td>\n",
       "      <td>1029.666667</td>\n",
       "      <td>0.005021</td>\n",
       "      <td>1</td>\n",
       "    </tr>\n",
       "    <tr>\n",
       "      <th>2</th>\n",
       "      <td>2015-02-11 14:49:00</td>\n",
       "      <td>21.7900</td>\n",
       "      <td>31.000000</td>\n",
       "      <td>437.333333</td>\n",
       "      <td>1000.000000</td>\n",
       "      <td>0.005009</td>\n",
       "      <td>1</td>\n",
       "    </tr>\n",
       "    <tr>\n",
       "      <th>3</th>\n",
       "      <td>2015-02-11 14:50:00</td>\n",
       "      <td>21.7675</td>\n",
       "      <td>31.122500</td>\n",
       "      <td>434.000000</td>\n",
       "      <td>1003.750000</td>\n",
       "      <td>0.005022</td>\n",
       "      <td>1</td>\n",
       "    </tr>\n",
       "    <tr>\n",
       "      <th>4</th>\n",
       "      <td>2015-02-11 14:51:00</td>\n",
       "      <td>21.7675</td>\n",
       "      <td>31.122500</td>\n",
       "      <td>439.000000</td>\n",
       "      <td>1009.500000</td>\n",
       "      <td>0.005022</td>\n",
       "      <td>1</td>\n",
       "    </tr>\n",
       "    <tr>\n",
       "      <th>5</th>\n",
       "      <td>2015-02-11 14:51:59</td>\n",
       "      <td>21.7900</td>\n",
       "      <td>31.133333</td>\n",
       "      <td>437.333333</td>\n",
       "      <td>1005.666667</td>\n",
       "      <td>0.005030</td>\n",
       "      <td>1</td>\n",
       "    </tr>\n",
       "    <tr>\n",
       "      <th>6</th>\n",
       "      <td>2015-02-11 14:53:00</td>\n",
       "      <td>21.7600</td>\n",
       "      <td>31.260000</td>\n",
       "      <td>437.333333</td>\n",
       "      <td>1014.333333</td>\n",
       "      <td>0.005042</td>\n",
       "      <td>1</td>\n",
       "    </tr>\n",
       "    <tr>\n",
       "      <th>7</th>\n",
       "      <td>2015-02-11 14:54:00</td>\n",
       "      <td>21.7900</td>\n",
       "      <td>31.197500</td>\n",
       "      <td>434.000000</td>\n",
       "      <td>1018.500000</td>\n",
       "      <td>0.005041</td>\n",
       "      <td>1</td>\n",
       "    </tr>\n",
       "    <tr>\n",
       "      <th>8</th>\n",
       "      <td>2015-02-11 14:55:00</td>\n",
       "      <td>21.7900</td>\n",
       "      <td>31.393333</td>\n",
       "      <td>437.333333</td>\n",
       "      <td>1018.666667</td>\n",
       "      <td>0.005073</td>\n",
       "      <td>1</td>\n",
       "    </tr>\n",
       "    <tr>\n",
       "      <th>9</th>\n",
       "      <td>2015-02-11 14:55:59</td>\n",
       "      <td>21.7900</td>\n",
       "      <td>31.317500</td>\n",
       "      <td>434.000000</td>\n",
       "      <td>1022.000000</td>\n",
       "      <td>0.005060</td>\n",
       "      <td>1</td>\n",
       "    </tr>\n",
       "    <tr>\n",
       "      <th>10</th>\n",
       "      <td>2015-02-11 14:57:00</td>\n",
       "      <td>21.7900</td>\n",
       "      <td>31.463333</td>\n",
       "      <td>437.333333</td>\n",
       "      <td>1027.333333</td>\n",
       "      <td>0.005084</td>\n",
       "      <td>1</td>\n",
       "    </tr>\n",
       "  </tbody>\n",
       "</table>\n",
       "</div>"
      ],
      "text/plain": [
       "                   date  Temperature   Humidity       Light          CO2  \\\n",
       "1   2015-02-11 14:48:00      21.7600  31.133333  437.333333  1029.666667   \n",
       "2   2015-02-11 14:49:00      21.7900  31.000000  437.333333  1000.000000   \n",
       "3   2015-02-11 14:50:00      21.7675  31.122500  434.000000  1003.750000   \n",
       "4   2015-02-11 14:51:00      21.7675  31.122500  439.000000  1009.500000   \n",
       "5   2015-02-11 14:51:59      21.7900  31.133333  437.333333  1005.666667   \n",
       "6   2015-02-11 14:53:00      21.7600  31.260000  437.333333  1014.333333   \n",
       "7   2015-02-11 14:54:00      21.7900  31.197500  434.000000  1018.500000   \n",
       "8   2015-02-11 14:55:00      21.7900  31.393333  437.333333  1018.666667   \n",
       "9   2015-02-11 14:55:59      21.7900  31.317500  434.000000  1022.000000   \n",
       "10  2015-02-11 14:57:00      21.7900  31.463333  437.333333  1027.333333   \n",
       "\n",
       "    HumidityRatio  Occupancy  \n",
       "1        0.005021          1  \n",
       "2        0.005009          1  \n",
       "3        0.005022          1  \n",
       "4        0.005022          1  \n",
       "5        0.005030          1  \n",
       "6        0.005042          1  \n",
       "7        0.005041          1  \n",
       "8        0.005073          1  \n",
       "9        0.005060          1  \n",
       "10       0.005084          1  "
      ]
     },
     "execution_count": 3,
     "metadata": {},
     "output_type": "execute_result"
    }
   ],
   "source": [
    "# Take a peek at the first 10 rows\n",
    "data.head(10)"
   ]
  },
  {
   "cell_type": "markdown",
   "metadata": {},
   "source": [
    "Firstly, let's examine what variables we are dealing with.\n",
    "\n",
    "- date: the specific day and time when the values were recorded \n",
    "- Temperature: measured in Celsius\n",
    "- Humidity: relative humidity - a present state of absolute humidity relative to a\n",
    "    maximum humidity given the same temperature expressed as a          percentage\n",
    "- Light: in Lux unit\n",
    "- CO2: in ppm unit (parts per million)\n",
    "- HumidityRatio: derived quantity from temperature and relative humidity, expressed in kilograms of water vapor per kilogram of dry air  \n",
    "- Occupancy: \n",
    "the presence of a person in the room: the occupancy of the room was obtained from pictures that were taken every minute for a period of 8 days (1 if a person is present, 0 otherwise)\n"
   ]
  },
  {
   "cell_type": "markdown",
   "metadata": {},
   "source": [
    "Let´s look at the variables data type using `.dtypes` attribute."
   ]
  },
  {
   "cell_type": "code",
   "execution_count": 4,
   "metadata": {},
   "outputs": [
    {
     "data": {
      "text/plain": [
       "date              object\n",
       "Temperature      float64\n",
       "Humidity         float64\n",
       "Light            float64\n",
       "CO2              float64\n",
       "HumidityRatio    float64\n",
       "Occupancy          int64\n",
       "dtype: object"
      ]
     },
     "execution_count": 4,
     "metadata": {},
     "output_type": "execute_result"
    }
   ],
   "source": [
    "# Check variables data type\n",
    "data.dtypes"
   ]
  },
  {
   "cell_type": "markdown",
   "metadata": {},
   "source": [
    "All of the variables have been correctly read except 'date' variable, which Python recognized as an object. Convert the object data type to datetime using Pandas. "
   ]
  },
  {
   "cell_type": "code",
   "execution_count": 5,
   "metadata": {},
   "outputs": [],
   "source": [
    "# Convert date variable using Pandas to_datetime method\n",
    "data['date'] = pd.to_datetime(data['date'])"
   ]
  },
  {
   "cell_type": "markdown",
   "metadata": {},
   "source": [
    "Let´s check whether there are some missing values that we need to be concerned with. "
   ]
  },
  {
   "cell_type": "code",
   "execution_count": 6,
   "metadata": {},
   "outputs": [
    {
     "data": {
      "text/plain": [
       "date             0\n",
       "Temperature      0\n",
       "Humidity         0\n",
       "Light            0\n",
       "CO2              0\n",
       "HumidityRatio    0\n",
       "Occupancy        0\n",
       "dtype: int64"
      ]
     },
     "execution_count": 6,
     "metadata": {},
     "output_type": "execute_result"
    }
   ],
   "source": [
    "# Check missing values\n",
    "data.isnull().sum()"
   ]
  },
  {
   "cell_type": "markdown",
   "metadata": {},
   "source": [
    "Alright, there are no missing values in the DataFrame so that we can proceed to visualizations. "
   ]
  },
  {
   "cell_type": "markdown",
   "metadata": {},
   "source": [
    "## Plot method\n",
    "\n",
    "We´ll be using a `.plot()` method, which creates the line plot by default where each record from DataFrame is displayed in the form of a continuous line. "
   ]
  },
  {
   "cell_type": "markdown",
   "metadata": {},
   "source": [
    "### Default Line plot\n",
    "\n"
   ]
  },
  {
   "cell_type": "markdown",
   "metadata": {},
   "source": [
    "Let´s create a line plot of variable Temperature. You can select one variable by indexing it with square brackets. It is possible to plot multiple columns by passing a list of respective columns separated by a comma within square brackets. "
   ]
  },
  {
   "cell_type": "code",
   "execution_count": 7,
   "metadata": {},
   "outputs": [
    {
     "data": {
      "text/plain": [
       "<AxesSubplot:>"
      ]
     },
     "execution_count": 7,
     "metadata": {},
     "output_type": "execute_result"
    },
    {
     "data": {
      "image/png": "[encoded data removed]",
      "text/plain": [
       "<Figure size 432x288 with 1 Axes>"
      ]
     },
     "metadata": {
      "needs_background": "light"
     },
     "output_type": "display_data"
    }
   ],
   "source": [
    "# Create a line plot of Temperature variable \n",
    "data['Temperature'].plot()"
   ]
  },
  {
   "cell_type": "markdown",
   "metadata": {},
   "source": [
    "Now we can see each data point represent temperature values.  \n",
    "\n",
    "You can see that this method returns ```<AxesSubplot:>``` object. But what does it mean? \n",
    "\n",
    "For now, remember that each graph is actually represented as a Figure object that serves as the base. There is Axes object in which are x-axis and y-axis created. In the latter section, we´ll reveal more details about Figures and Axis. \n",
    "To avoid displaying this label, you can put a semicolon at the end of the code."
   ]
  },
  {
   "cell_type": "markdown",
   "metadata": {},
   "source": [
    "### Plotting variables and optional parameters"
   ]
  },
  {
   "cell_type": "markdown",
   "metadata": {},
   "source": [
    "It is possible to plot one column against another one, as we see in the example below. We specify date variable on the x-axis and CO2 variable on the y-axis, representing the amount of CO2 related to the specific date.\n",
    "Within `.plot()` method, you can set several parameters such as color, title, axis names, legend format, etc. For more information about parameter settings, see [the documentation](https://pandas.pydata.org/pandas-docs/stable/reference/api/pandas.DataFrame.plot.html)"
   ]
  },
  {
   "cell_type": "code",
   "execution_count": 8,
   "metadata": {},
   "outputs": [
    {
     "data": {
      "image/png": "[encoded data removed]",
      "text/plain": [
       "<Figure size 1080x576 with 1 Axes>"
      ]
     },
     "metadata": {
      "needs_background": "light"
     },
     "output_type": "display_data"
    }
   ],
   "source": [
    "# Create a line plot to visualize CO2 variable per date\n",
    "\n",
    "data.plot(x = 'date', y = 'CO2',             # Specifying variabes on the axis\n",
    "          figsize = (15,8),                  # Setting a Figure object size\n",
    "          fontsize = 9,                      # Setting axis font size \n",
    "          color = 'skyblue',                 # Setting a color\n",
    "          title = 'Amount of CO2 over time', # Setting a title of a plot \n",
    "          xlabel = 'Date',                   # Setting x-axis label\n",
    "          ylabel = 'CO2 (in ppm)');          # Setting y-axis label"
   ]
  },
  {
   "cell_type": "markdown",
   "metadata": {},
   "source": [
    "The line plot is now showing a trend of CO2 amount over a period of time from 12.02.2015 (Thursday) till 18.02.2015 (Wednesday). The graph shows how the amount of CO2 has decreased during the weekend (14.02.2015 - 15.02.2015). "
   ]
  },
  {
   "cell_type": "markdown",
   "metadata": {},
   "source": [
    "One of the `.plot()` method´s parameters is `kind`, using which you can set several plot styles. You simply assign the selected plot as a string to this parameter. Let´s look at the plot that reveals the data points distribution called a histogram.  "
   ]
  },
  {
   "cell_type": "markdown",
   "metadata": {},
   "source": [
    "## Histogram\n"
   ]
  },
  {
   "cell_type": "markdown",
   "metadata": {},
   "source": [
    "Histogram is a handy plot to get a picture of the spread of data points. It creates so-called bins that you can think of as particular ranges of values. Each data point falls into the respective bin according to its value and the number of data points are counted. \n",
    "\n",
    "Look at some statistics computed on variable Humidity. We know the lowest and the highest temperature, average temperature, and that 50% of values are under 30,2°C, etc. But it´s hard to imagine how the distribution of 9752 records looks based on these summary statistics."
   ]
  },
  {
   "cell_type": "code",
   "execution_count": 9,
   "metadata": {},
   "outputs": [
    {
     "data": {
      "text/plain": [
       "count    9752.000000\n",
       "mean       29.891910\n",
       "std         3.952844\n",
       "min        21.865000\n",
       "25%        26.642083\n",
       "50%        30.200000\n",
       "75%        32.700000\n",
       "max        39.500000\n",
       "Name: Humidity, dtype: float64"
      ]
     },
     "execution_count": 9,
     "metadata": {},
     "output_type": "execute_result"
    }
   ],
   "source": [
    "# Take a look at the descriptive statistics using .describe()\n",
    "data.Humidity.describe()"
   ]
  },
  {
   "cell_type": "markdown",
   "metadata": {},
   "source": [
    "Let´s create a histogram of variable Humidity. You can use `.plot()` method and specify `kind = \"hist\"` within this method. "
   ]
  },
  {
   "cell_type": "code",
   "execution_count": 10,
   "metadata": {},
   "outputs": [
    {
     "data": {
      "image/png": "[encoded data removed]",
      "text/plain": [
       "<Figure size 432x288 with 1 Axes>"
      ]
     },
     "metadata": {
      "needs_background": "light"
     },
     "output_type": "display_data"
    }
   ],
   "source": [
    "# Plot the relative humidity distribution\n",
    "data['Humidity'].plot(kind ='hist',\n",
    "                      color = '#ff7f0e',\n",
    "                      alpha = .5,\n",
    "                      title = 'Humidity distribution');"
   ]
  },
  {
   "cell_type": "markdown",
   "metadata": {},
   "source": [
    "Now we can see all of 9752 data points plotted in the one graph. In the resulting graph we can see how the values are spread accros range from about 21% to 39% of relative humidity. Most data points lies between 23% and 32,5% with the peak of 30%. \n"
   ]
  },
  {
   "cell_type": "markdown",
   "metadata": {},
   "source": [
    "Be default, this method separate all of the records into 10 bins based on their values. To verify whether our resulting graph accurately reflects the underlying data we can play and try to use different number of bins. Using different number of bins, the visual appearance of the histogram will be changing."
   ]
  },
  {
   "cell_type": "code",
   "execution_count": 14,
   "metadata": {},
   "outputs": [
    {
     "data": {
      "image/png": "[encoded data removed]",
      "text/plain": [
       "<Figure size 432x288 with 1 Axes>"
      ]
     },
     "metadata": {
      "needs_background": "light"
     },
     "output_type": "display_data"
    }
   ],
   "source": [
    "# Create a histogram in the same way as above, but set number of bins to 20\n",
    "data['Humidity'].plot(kind ='hist',\n",
    "                      bins = 15,\n",
    "                      color = '#ff7f0e',\n",
    "                      alpha = .5,\n",
    "                      title = 'Humidity distribution');"
   ]
  },
  {
   "cell_type": "markdown",
   "metadata": {},
   "source": [
    "Instead of specifying `kind` parameter within `.plot()` method, there is also alternative method that you can use to produce histogram. \n",
    "\n",
    "By passing `.hist()` after the DataFrame or Series we are able to create a histogram of selected column or columns. "
   ]
  },
  {
   "cell_type": "code",
   "execution_count": 31,
   "metadata": {},
   "outputs": [
    {
     "data": {
      "image/png": "[encoded data removed]",
      "text/plain": [
       "<Figure size 432x288 with 1 Axes>"
      ]
     },
     "metadata": {
      "needs_background": "light"
     },
     "output_type": "display_data"
    }
   ],
   "source": [
    "# Create a histogram using .hist() method\n",
    "# Note that variable must be define as a string\n",
    "data.hist('Humidity');"
   ]
  },
  {
   "cell_type": "markdown",
   "metadata": {},
   "source": [
    "Using this method we can plot multiple columns by passing of list of particular columns within the method. You can either specify parameter `column`, or pass the list itself. By default, the axis grid lines are displayed (as you can see in the above example). You can disable showing these lines by setting parameter `grid = False`. It is possible to change the number of bins, but these two variables have different measure units. It will be more convenient to plot and explore them separately with different number of bins."
   ]
  },
  {
   "cell_type": "code",
   "execution_count": 42,
   "metadata": {},
   "outputs": [
    {
     "data": {
      "image/png": "[encoded data removed]",
      "text/plain": [
       "<Figure size 432x288 with 2 Axes>"
      ]
     },
     "metadata": {
      "needs_background": "light"
     },
     "output_type": "display_data"
    }
   ],
   "source": [
    "# Create a histogram of Humidity and Temperature variables\n",
    "# Disable axis grid lines\n",
    "data.hist(column = ['Humidity','Temperature'],\n",
    "         grid = False);"
   ]
  },
  {
   "cell_type": "markdown",
   "metadata": {},
   "source": [
    "## Boxplot\n"
   ]
  },
  {
   "cell_type": "code",
   "execution_count": 22,
   "metadata": {},
   "outputs": [
    {
     "data": {
      "image/png": "[encoded data removed]",
      "text/plain": [
       "<Figure size 432x288 with 1 Axes>"
      ]
     },
     "metadata": {
      "needs_background": "light"
     },
     "output_type": "display_data"
    }
   ],
   "source": [
    "# Create a boxplot of HUmidityRatio variable \n",
    "data.HumidityRatio.plot(kind = 'box');"
   ]
  },
  {
   "cell_type": "code",
   "execution_count": null,
   "metadata": {},
   "outputs": [],
   "source": [
    "    "
   ]
  },
  {
   "cell_type": "markdown",
   "metadata": {},
   "source": [
    "Instead of specifying kind parameter within `.plot()` method you can use alternative method `DataFrame.plot.<kind of plot>`. For example:\n",
    "data.plot.hist()"
   ]
  },
  {
   "cell_type": "markdown",
   "metadata": {},
   "source": [
    "### Citation request:\n",
    "Accurate occupancy detection of an office room from light, temperature, humidity and CO2 measurements using statistical learning models. Luis M. Candanedo, VÃ©ronique Feldheim. Energy and Buildings. Volume 112, 15 January 2016, Pages 28-39."
   ]
  },
  {
   "cell_type": "code",
   "execution_count": null,
   "metadata": {},
   "outputs": [],
   "source": []
  }
 ],
 "metadata": {
  "kernelspec": {
   "display_name": "Python 3",
   "language": "python",
   "name": "python3"
  },
  "language_info": {
   "codemirror_mode": {
    "name": "ipython",
    "version": 3
   },
   "file_extension": ".py",
   "mimetype": "text/x-python",
   "name": "python",
   "nbconvert_exporter": "python",
   "pygments_lexer": "ipython3",
   "version": "3.7.9"
  }
 },
 "nbformat": 4,
 "nbformat_minor": 4
}
