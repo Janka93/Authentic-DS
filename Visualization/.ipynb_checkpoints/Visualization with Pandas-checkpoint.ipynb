{
 "cells": [
  {
   "cell_type": "markdown",
   "metadata": {},
   "source": [
    "# 3_4_5 Visualizations with Pandas"
   ]
  },
  {
   "cell_type": "markdown",
   "metadata": {},
   "source": [
    "Introduction to basic Pandas visualization capabilities\n",
    "\n",
    "Pandas library will probably be your first option to create visual insights to understand the data more. The main advantage is that you can visualize the data using simple and straightforward methods. Behind the scene, when we call Pandas' plotting methods, there is a Matplotlib library, which is used as an engine. But don't worry about this library as we will cover it in the latter lesson."
   ]
  },
  {
   "cell_type": "markdown",
   "metadata": {},
   "source": [
    "The occupancy detection dataset:\n",
    "https://archive.ics.uci.edu/ml/datasets/Occupancy+Detection+#. \n",
    "\n",
    "\n",
    "This dataset is intended to solve binary classification problems according to attributes, which could indicate whether a person is present in the room. \n",
    "\n",
    "Let´s import Pandas library and read the data."
   ]
  },
  {
   "cell_type": "code",
   "execution_count": 1,
   "metadata": {},
   "outputs": [],
   "source": [
    "# Import Pandas library\n",
    "import pandas as pd"
   ]
  },
  {
   "cell_type": "code",
   "execution_count": 2,
   "metadata": {},
   "outputs": [],
   "source": [
    "# Read the data\n",
    "data = pd.read_csv('room_occupancy.txt')"
   ]
  },
  {
   "cell_type": "code",
   "execution_count": 3,
   "metadata": {},
   "outputs": [
    {
     "data": {
      "text/html": [
       "<div>\n",
       "<style scoped>\n",
       "    .dataframe tbody tr th:only-of-type {\n",
       "        vertical-align: middle;\n",
       "    }\n",
       "\n",
       "    .dataframe tbody tr th {\n",
       "        vertical-align: top;\n",
       "    }\n",
       "\n",
       "    .dataframe thead th {\n",
       "        text-align: right;\n",
       "    }\n",
       "</style>\n",
       "<table border=\"1\" class=\"dataframe\">\n",
       "  <thead>\n",
       "    <tr style=\"text-align: right;\">\n",
       "      <th></th>\n",
       "      <th>date</th>\n",
       "      <th>Temperature</th>\n",
       "      <th>Humidity</th>\n",
       "      <th>Light</th>\n",
       "      <th>CO2</th>\n",
       "      <th>HumidityRatio</th>\n",
       "      <th>Occupancy</th>\n",
       "    </tr>\n",
       "  </thead>\n",
       "  <tbody>\n",
       "    <tr>\n",
       "      <th>1</th>\n",
       "      <td>2015-02-11 14:48:00</td>\n",
       "      <td>21.7600</td>\n",
       "      <td>31.133333</td>\n",
       "      <td>437.333333</td>\n",
       "      <td>1029.666667</td>\n",
       "      <td>0.005021</td>\n",
       "      <td>1</td>\n",
       "    </tr>\n",
       "    <tr>\n",
       "      <th>2</th>\n",
       "      <td>2015-02-11 14:49:00</td>\n",
       "      <td>21.7900</td>\n",
       "      <td>31.000000</td>\n",
       "      <td>437.333333</td>\n",
       "      <td>1000.000000</td>\n",
       "      <td>0.005009</td>\n",
       "      <td>1</td>\n",
       "    </tr>\n",
       "    <tr>\n",
       "      <th>3</th>\n",
       "      <td>2015-02-11 14:50:00</td>\n",
       "      <td>21.7675</td>\n",
       "      <td>31.122500</td>\n",
       "      <td>434.000000</td>\n",
       "      <td>1003.750000</td>\n",
       "      <td>0.005022</td>\n",
       "      <td>1</td>\n",
       "    </tr>\n",
       "    <tr>\n",
       "      <th>4</th>\n",
       "      <td>2015-02-11 14:51:00</td>\n",
       "      <td>21.7675</td>\n",
       "      <td>31.122500</td>\n",
       "      <td>439.000000</td>\n",
       "      <td>1009.500000</td>\n",
       "      <td>0.005022</td>\n",
       "      <td>1</td>\n",
       "    </tr>\n",
       "    <tr>\n",
       "      <th>5</th>\n",
       "      <td>2015-02-11 14:51:59</td>\n",
       "      <td>21.7900</td>\n",
       "      <td>31.133333</td>\n",
       "      <td>437.333333</td>\n",
       "      <td>1005.666667</td>\n",
       "      <td>0.005030</td>\n",
       "      <td>1</td>\n",
       "    </tr>\n",
       "    <tr>\n",
       "      <th>6</th>\n",
       "      <td>2015-02-11 14:53:00</td>\n",
       "      <td>21.7600</td>\n",
       "      <td>31.260000</td>\n",
       "      <td>437.333333</td>\n",
       "      <td>1014.333333</td>\n",
       "      <td>0.005042</td>\n",
       "      <td>1</td>\n",
       "    </tr>\n",
       "    <tr>\n",
       "      <th>7</th>\n",
       "      <td>2015-02-11 14:54:00</td>\n",
       "      <td>21.7900</td>\n",
       "      <td>31.197500</td>\n",
       "      <td>434.000000</td>\n",
       "      <td>1018.500000</td>\n",
       "      <td>0.005041</td>\n",
       "      <td>1</td>\n",
       "    </tr>\n",
       "    <tr>\n",
       "      <th>8</th>\n",
       "      <td>2015-02-11 14:55:00</td>\n",
       "      <td>21.7900</td>\n",
       "      <td>31.393333</td>\n",
       "      <td>437.333333</td>\n",
       "      <td>1018.666667</td>\n",
       "      <td>0.005073</td>\n",
       "      <td>1</td>\n",
       "    </tr>\n",
       "    <tr>\n",
       "      <th>9</th>\n",
       "      <td>2015-02-11 14:55:59</td>\n",
       "      <td>21.7900</td>\n",
       "      <td>31.317500</td>\n",
       "      <td>434.000000</td>\n",
       "      <td>1022.000000</td>\n",
       "      <td>0.005060</td>\n",
       "      <td>1</td>\n",
       "    </tr>\n",
       "    <tr>\n",
       "      <th>10</th>\n",
       "      <td>2015-02-11 14:57:00</td>\n",
       "      <td>21.7900</td>\n",
       "      <td>31.463333</td>\n",
       "      <td>437.333333</td>\n",
       "      <td>1027.333333</td>\n",
       "      <td>0.005084</td>\n",
       "      <td>1</td>\n",
       "    </tr>\n",
       "  </tbody>\n",
       "</table>\n",
       "</div>"
      ],
      "text/plain": [
       "                   date  Temperature   Humidity       Light          CO2  \\\n",
       "1   2015-02-11 14:48:00      21.7600  31.133333  437.333333  1029.666667   \n",
       "2   2015-02-11 14:49:00      21.7900  31.000000  437.333333  1000.000000   \n",
       "3   2015-02-11 14:50:00      21.7675  31.122500  434.000000  1003.750000   \n",
       "4   2015-02-11 14:51:00      21.7675  31.122500  439.000000  1009.500000   \n",
       "5   2015-02-11 14:51:59      21.7900  31.133333  437.333333  1005.666667   \n",
       "6   2015-02-11 14:53:00      21.7600  31.260000  437.333333  1014.333333   \n",
       "7   2015-02-11 14:54:00      21.7900  31.197500  434.000000  1018.500000   \n",
       "8   2015-02-11 14:55:00      21.7900  31.393333  437.333333  1018.666667   \n",
       "9   2015-02-11 14:55:59      21.7900  31.317500  434.000000  1022.000000   \n",
       "10  2015-02-11 14:57:00      21.7900  31.463333  437.333333  1027.333333   \n",
       "\n",
       "    HumidityRatio  Occupancy  \n",
       "1        0.005021          1  \n",
       "2        0.005009          1  \n",
       "3        0.005022          1  \n",
       "4        0.005022          1  \n",
       "5        0.005030          1  \n",
       "6        0.005042          1  \n",
       "7        0.005041          1  \n",
       "8        0.005073          1  \n",
       "9        0.005060          1  \n",
       "10       0.005084          1  "
      ]
     },
     "execution_count": 3,
     "metadata": {},
     "output_type": "execute_result"
    }
   ],
   "source": [
    "# Take a peek at the first 10 rows\n",
    "data.head(10)"
   ]
  },
  {
   "cell_type": "markdown",
   "metadata": {},
   "source": [
    "Firstly, let's examine what variables we are dealing with.\n",
    "\n",
    "- date: the specific day and time when the values were recorded \n",
    "- Temperature: measured in Celsius\n",
    "- Humidity: relative humidity - a present state of absolute humidity relative to a\n",
    "    maximum humidity given the same temperature expressed as a          percentage\n",
    "- Light: in Lux unit\n",
    "- CO2: in ppm unit (parts per million)\n",
    "- HumidityRatio: derived quantity from temperature and relative humidity, expressed in kilograms of water vapor per kilogram of dry air  \n",
    "- Occupancy: \n",
    "the presence of a person in the room: the occupancy of the room was obtained from pictures that were taken every minute for a period of 8 days (1 if a person is present, 0 otherwise)\n"
   ]
  },
  {
   "cell_type": "markdown",
   "metadata": {},
   "source": [
    "Let´s look at the variables data type using `.dtypes` attribute."
   ]
  },
  {
   "cell_type": "code",
   "execution_count": 6,
   "metadata": {},
   "outputs": [
    {
     "data": {
      "text/plain": [
       "date              object\n",
       "Temperature      float64\n",
       "Humidity         float64\n",
       "Light            float64\n",
       "CO2              float64\n",
       "HumidityRatio    float64\n",
       "Occupancy          int64\n",
       "dtype: object"
      ]
     },
     "execution_count": 6,
     "metadata": {},
     "output_type": "execute_result"
    }
   ],
   "source": [
    "# Check variables data type\n",
    "data.dtypes"
   ]
  },
  {
   "cell_type": "markdown",
   "metadata": {},
   "source": [
    "Variables are containing numerical values except 'date' variable, which Python recognized as an object. Convert the object data type to datetime using Pandas. "
   ]
  },
  {
   "cell_type": "code",
   "execution_count": 8,
   "metadata": {},
   "outputs": [],
   "source": [
    "# Convert date variable using Pandas to_datetime\n",
    "data['date'] = pd.to_datetime(data['date'])"
   ]
  },
  {
   "cell_type": "markdown",
   "metadata": {},
   "source": [
    "### Citation request:\n",
    "Accurate occupancy detection of an office room from light, temperature, humidity and CO2 measurements using statistical learning models. Luis M. Candanedo, VÃ©ronique Feldheim. Energy and Buildings. Volume 112, 15 January 2016, Pages 28-39."
   ]
  },
  {
   "cell_type": "code",
   "execution_count": null,
   "metadata": {},
   "outputs": [],
   "source": []
  }
 ],
 "metadata": {
  "kernelspec": {
   "display_name": "Python 3",
   "language": "python",
   "name": "python3"
  },
  "language_info": {
   "codemirror_mode": {
    "name": "ipython",
    "version": 3
   },
   "file_extension": ".py",
   "mimetype": "text/x-python",
   "name": "python",
   "nbconvert_exporter": "python",
   "pygments_lexer": "ipython3",
   "version": "3.7.9"
  }
 },
 "nbformat": 4,
 "nbformat_minor": 4
}
