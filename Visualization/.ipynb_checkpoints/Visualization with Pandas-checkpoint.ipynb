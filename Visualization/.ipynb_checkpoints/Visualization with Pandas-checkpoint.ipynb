{
 "cells": [
  {
   "cell_type": "markdown",
   "metadata": {},
   "source": [
    "Visualization with Pandas\n",
    "intro\n",
    "\n",
    "basic plotting\n",
    "\n",
    "default line plot: data.plot()\n",
    "\n",
    "kind keyword inside the plot() method: bar, barh, hist, box, scatter\n",
    "\n",
    "data.plot.kind - s TAB vidíme jednotlivé typy\n",
    "\n",
    "data.hist, data.boxplot\n"
   ]
  },
  {
   "cell_type": "code",
   "execution_count": null,
   "metadata": {},
   "outputs": [],
   "source": []
  }
 ],
 "metadata": {
  "kernelspec": {
   "display_name": "Python 3",
   "language": "python",
   "name": "python3"
  },
  "language_info": {
   "codemirror_mode": {
    "name": "ipython",
    "version": 3
   },
   "file_extension": ".py",
   "mimetype": "text/x-python",
   "name": "python",
   "nbconvert_exporter": "python",
   "pygments_lexer": "ipython3",
   "version": "3.7.7"
  }
 },
 "nbformat": 4,
 "nbformat_minor": 4
}
