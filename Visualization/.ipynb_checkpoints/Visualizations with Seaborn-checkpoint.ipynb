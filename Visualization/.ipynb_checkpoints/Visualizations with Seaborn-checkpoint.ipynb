{
 "cells": [
  {
   "cell_type": "markdown",
   "metadata": {},
   "source": [
    "intro\n",
    "Color palettes, Themes\n",
    "\n",
    "lineplot(), histplot(), boxplot(), scatterplot(), violinplot(), swarmplot(), countplot()\n",
    "regression plots\n",
    "\n",
    "matrix plots (heatmap)\n",
    "\n",
    "Multi-plot grids: FacetGrid, PairGrid (scatter + hist)\n"
   ]
  },
  {
   "cell_type": "code",
   "execution_count": null,
   "metadata": {},
   "outputs": [],
   "source": []
  }
 ],
 "metadata": {
  "kernelspec": {
   "display_name": "Python 3",
   "language": "python",
   "name": "python3"
  },
  "language_info": {
   "codemirror_mode": {
    "name": "ipython",
    "version": 3
   },
   "file_extension": ".py",
   "mimetype": "text/x-python",
   "name": "python",
   "nbconvert_exporter": "python",
   "pygments_lexer": "ipython3",
   "version": "3.7.7"
  }
 },
 "nbformat": 4,
 "nbformat_minor": 4
}
